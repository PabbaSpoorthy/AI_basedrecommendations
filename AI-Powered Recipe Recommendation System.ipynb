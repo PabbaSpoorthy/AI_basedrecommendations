{
 "cells": [
  {
   "cell_type": "code",
   "execution_count": null,
   "id": "9fb9344a",
   "metadata": {},
   "outputs": [],
   "source": [
    "import pandas as pd\n",
    "\n",
    "# Load dataset\n",
    "recipes_df = pd.read_csv('recipes_dataset.csv')\n",
    "\n",
    "# Data preprocessing\n",
    "# Example: Tokenize ingredients and instructions, handle missing values, etc.\n"
   ]
  },
  {
   "cell_type": "code",
   "execution_count": null,
   "id": "a5bd9870",
   "metadata": {},
   "outputs": [],
   "source": [
    "from sklearn.feature_extraction.text import TfidfVectorizer\n",
    "from sklearn.metrics.pairwise import cosine_similarity\n",
    "\n",
    "# Feature extraction\n",
    "tfidf_vectorizer = TfidfVectorizer()\n",
    "tfidf_matrix = tfidf_vectorizer.fit_transform(recipes_df['ingredients'])\n",
    "\n",
    "# Compute similarity matrix\n",
    "similarity_matrix = cosine_similarity(tfidf_matrix, tfidf_matrix)\n"
   ]
  },
  {
   "cell_type": "code",
   "execution_count": null,
   "id": "cecba74f",
   "metadata": {},
   "outputs": [],
   "source": [
    "# views.py (Django)\n",
    "from django.shortcuts import render\n",
    "from .models import Recipe\n",
    "\n",
    "def recommend_recipe(request):\n",
    "    # Retrieve user preferences from request\n",
    "    user_preferences = request.GET.get('preferences')\n",
    "    \n",
    "    # Recommend recipe based on user preferences\n",
    "    recommended_recipe = get_recommendation(user_preferences)\n",
    "    \n",
    "    return render(request, 'recommendation.html', {'recipe': recommended_recipe})\n",
    "\n",
    "# recommendation.html (HTML template)\n",
    "<!DOCTYPE html>\n",
    "<html>\n",
    "<head>\n",
    "    <title>Recipe Recommendation</title>\n",
    "</head>\n",
    "<body>\n",
    "    <h1>Recommended Recipe:</h1>\n",
    "    <p>{{ recipe.name }}</p>\n",
    "    <p>{{ recipe.ingredients }}</p>\n",
    "    <p>{{ recipe.instructions }}</p>\n",
    "</body>\n",
    "</html>\n"
   ]
  },
  {
   "cell_type": "code",
   "execution_count": null,
   "id": "129b3dca",
   "metadata": {},
   "outputs": [],
   "source": [
    "import tensorflow as tf\n",
    "\n",
    "# Define and train a TensorFlow model\n",
    "model = tf.keras.Sequential([\n",
    "    tf.keras.layers.Embedding(input_dim=num_ingredients, output_dim=embedding_dim),\n",
    "    tf.keras.layers.LSTM(units=128),\n",
    "    tf.keras.layers.Dense(units=num_recipes, activation='softmax')\n",
    "])\n",
    "\n",
    "model.compile(optimizer='adam', loss='categorical_crossentropy', metrics=['accuracy'])\n",
    "model.fit(X_train, y_train, epochs=10, batch_size=32)\n"
   ]
  }
 ],
 "metadata": {
  "kernelspec": {
   "display_name": "newDipker",
   "language": "python",
   "name": "newdipker"
  },
  "language_info": {
   "codemirror_mode": {
    "name": "ipython",
    "version": 3
   },
   "file_extension": ".py",
   "mimetype": "text/x-python",
   "name": "python",
   "nbconvert_exporter": "python",
   "pygments_lexer": "ipython3",
   "version": "3.11.4"
  }
 },
 "nbformat": 4,
 "nbformat_minor": 5
}
